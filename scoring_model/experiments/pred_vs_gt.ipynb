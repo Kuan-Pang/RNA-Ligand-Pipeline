{
 "cells": [
  {
   "cell_type": "code",
   "execution_count": null,
   "metadata": {},
   "outputs": [],
   "source": [
    "%load_ext autoreload\n",
    "import seaborn as sns\n",
    "import numpy as np\n",
    "import pandas as pd"
   ]
  },
  {
   "cell_type": "code",
   "execution_count": null,
   "metadata": {},
   "outputs": [],
   "source": [
    "array = np.load(\"\")\n",
    "\n",
    "sns.set_style(\"whitegrid\")\n",
    "df = pd.DataFrame(array, columns=[\"pred\", \"gt\"])\n",
    "ax = sns.scatterplot(data=df, x=\"pred\", y=\"gt\", alpha=0.5)\n",
    "ax.set(xlabel='Prediction (RMSD)', ylabel='Groud Truth (RMSD)')\n",
    "fig = ax.get_figure()\n",
    "fig.savefig(\"equiformer.png\") "
   ]
  },
  {
   "cell_type": "code",
   "execution_count": null,
   "metadata": {},
   "outputs": [],
   "source": [
    "array = np.load(\"\")\n",
    "\n",
    "sns.set_style(\"whitegrid\")\n",
    "df = pd.DataFrame(array, columns=[\"pred\", \"gt\"])\n",
    "ax = sns.scatterplot(data=df, x=\"pred\", y=\"gt\", alpha=0.5)\n",
    "ax.set(xlabel='Prediction (RMSD)', ylabel='Groud Truth (RMSD)')\n",
    "fig = ax.get_figure()\n",
    "fig.savefig(\"ares.png\") "
   ]
  }
 ],
 "metadata": {
  "kernelspec": {
   "display_name": "env",
   "language": "python",
   "name": "python3"
  },
  "language_info": {
   "codemirror_mode": {
    "name": "ipython",
    "version": 3
   },
   "file_extension": ".py",
   "mimetype": "text/x-python",
   "name": "python",
   "nbconvert_exporter": "python",
   "pygments_lexer": "ipython3",
   "version": "3.8.16"
  },
  "orig_nbformat": 4,
  "vscode": {
   "interpreter": {
    "hash": "896bd4d12429900b6dd9ce2bacad4f8986b173f11ffd3ace5061e62bf10d80df"
   }
  }
 },
 "nbformat": 4,
 "nbformat_minor": 2
}
