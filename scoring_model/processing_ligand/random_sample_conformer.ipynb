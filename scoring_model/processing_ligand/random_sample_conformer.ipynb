{
 "cells": [
  {
   "cell_type": "code",
   "execution_count": null,
   "metadata": {},
   "outputs": [],
   "source": [
    "import pickle\n",
    "import subprocess\n",
    "import pandas as pd\n",
    "import os"
   ]
  },
  {
   "cell_type": "code",
   "execution_count": null,
   "metadata": {},
   "outputs": [],
   "source": [
    "with open ('/', 'rb') as fp:\n",
    "    nn_dict = pickle.load(fp)\n",
    "# load data\n",
    "COMP_PATH = ''\n",
    "ligand_df = pd.read_csv(COMP_PATH)\n",
    "DATA_PATH = ''\n",
    "ligand_df"
   ]
  },
  {
   "cell_type": "code",
   "execution_count": null,
   "metadata": {},
   "outputs": [],
   "source": [
    "error_list = []\n",
    "for rna, ligand_dict in nn_dict.items():\n",
    "    rna_dir = os.path.join(DATA_PATH, rna)\n",
    "    if not os.path.exists(rna_dir):\n",
    "        os.makedirs(rna_dir)\n",
    "    for ligand, conformer_list in ligand_dict.items():\n",
    "        ligand_dir = os.path.join(rna_dir, ligand)\n",
    "        if not os.path.exists(ligand_dir):\n",
    "            os.makedirs(ligand_dir)\n",
    "        for conformer in conformer_list:\n",
    "            conformer_name = conformer + \".mol2\"\n",
    "            conformer_path = os.path.join(ligand_dir, conformer_name)\n",
    "            smi = ligand_df[ligand_df['id'] == ligand]['canonical_smiles'].values[0]\n",
    "            cmd = f\"obabel -:\\\"{smi}\\\" -o pdb --gen3D -d | obabel -ipdb -O {conformer_path} --conformer --nconf 10 --score rmsd --writeconformers\"\n",
    "            process = subprocess.Popen(cmd, stdout=subprocess.PIPE, shell=True)\n",
    "            output, error = process.communicate()\n",
    "            print(error)\n",
    "            error_list.append([error, conformer_path])\n",
    "    "
   ]
  },
  {
   "cell_type": "code",
   "execution_count": null,
   "metadata": {},
   "outputs": [],
   "source": [
    "filtered_error_list = [x for x in error_list if x[0] is not None]"
   ]
  }
 ],
 "metadata": {
  "kernelspec": {
   "display_name": "atac_env",
   "language": "python",
   "name": "python3"
  },
  "language_info": {
   "codemirror_mode": {
    "name": "ipython",
    "version": 3
   },
   "file_extension": ".py",
   "mimetype": "text/x-python",
   "name": "python",
   "nbconvert_exporter": "python",
   "pygments_lexer": "ipython3",
   "version": "3.8.16"
  },
  "orig_nbformat": 4,
  "vscode": {
   "interpreter": {
    "hash": "99cbbe45247d17662ec65301558037395bd9d5f6b3eebe8ef0eaef6046da8823"
   }
  }
 },
 "nbformat": 4,
 "nbformat_minor": 2
}
