{
 "cells": [
  {
   "cell_type": "code",
   "execution_count": null,
   "metadata": {},
   "outputs": [],
   "source": [
    "from Bio.PDB import *\n",
    "import pandas as pd\n",
    "import os\n",
    "from tqdm import tqdm\n",
    "import numpy as np"
   ]
  },
  {
   "cell_type": "code",
   "execution_count": null,
   "metadata": {},
   "outputs": [],
   "source": [
    "pdb_list = pd.read_csv(\"\", header=None)\n",
    "compound_list = pd.read_csv(\"\")\n",
    "DATA_DIR = \"\""
   ]
  },
  {
   "cell_type": "code",
   "execution_count": null,
   "metadata": {},
   "outputs": [],
   "source": [
    "rna_list = pdb_list\n",
    "sm_list = list(compound_list[\"id\"].values)"
   ]
  },
  {
   "cell_type": "code",
   "execution_count": null,
   "metadata": {},
   "outputs": [],
   "source": [
    "for i in rna_list[0]:\n",
    "    pdbl = PDBList()\n",
    "    pdbl.retrieve_pdb_file(i, file_format=\"pdb\", pdir=DATA_DIR)"
   ]
  },
  {
   "cell_type": "code",
   "execution_count": null,
   "metadata": {},
   "outputs": [],
   "source": [
    "parser = PDBParser() \n",
    "parser.QUIET = True"
   ]
  },
  {
   "cell_type": "code",
   "execution_count": null,
   "metadata": {},
   "outputs": [],
   "source": [
    "def is_het(residue):\n",
    "    res = residue.id[0]\n",
    "    # if res != \" \" and res != \"W\":\n",
    "    #     print(res)\n",
    "    return res != \" \" and res != \"W\" and res.split(\"_\")[1].upper() in sm_list\n",
    "\n",
    "class ResidueSelect(Select):\n",
    "    def __init__(self, chain, residue):\n",
    "        self.chain = chain\n",
    "        self.residue = residue\n",
    "\n",
    "    def accept_chain(self, chain):\n",
    "        return chain.id == self.chain.id\n",
    "\n",
    "    def accept_residue(self, residue):\n",
    "        \"\"\" Recognition of heteroatoms - Remove water molecules \"\"\"\n",
    "        return residue == self.residue and is_het(residue)\n",
    "\n",
    "class NonHetSelect(Select):\n",
    "    def accept_residue(self, residue):\n",
    "        return 1 if residue.id[0] == \" \" else 0\n",
    "    \n",
    "# class ChainSelect(Select):\n",
    "#     def __init__(self, chain, residue):\n",
    "#         self.chain = chain\n",
    "#         self.residue = residue\n",
    "\n",
    "#     def accept_chain(self, chain):\n",
    "#         return chain.id == self.chain.id\n",
    "\n",
    "#     def accept_residue(self, residue):\n",
    "#         \"\"\" Recognition of heteroatoms - Remove water molecules \"\"\"\n",
    "#         return residue == self.residue and not is_het(residue)"
   ]
  },
  {
   "cell_type": "code",
   "execution_count": null,
   "metadata": {},
   "outputs": [],
   "source": [
    "def check_ligand(structure, file_name, output_dir):\n",
    "    io = PDBIO()\n",
    "    io.set_structure(structure)\n",
    "    model = structure[0]\n",
    "    io.set_structure(model)\n",
    "    # directory = f\"{output_dir}/{file_name}\"\n",
    "    # if not os.path.exists(directory):\n",
    "    #     os.makedirs(directory)\n",
    "    res_list = []\n",
    "    ligand_counter = 0\n",
    "    for chain in model:\n",
    "        for residue in chain:\n",
    "            if not is_het(residue):\n",
    "                continue\n",
    "            res = residue.id[0]\n",
    "            code = res.split(\"_\")[1].upper()\n",
    "            if code not in res_list:\n",
    "                res_list.append(code)\n",
    "    return res_list\n",
    "\n",
    "            \n",
    "        # break\n"
   ]
  },
  {
   "cell_type": "code",
   "execution_count": null,
   "metadata": {},
   "outputs": [],
   "source": [
    "map_dict = {}\n",
    "for i in tqdm(rna_list[0]):\n",
    "    structure = parser.get_structure(i, f\"\")\n",
    "    ligand_code_list = check_ligand(structure, i, \"\")\n",
    "    map_dict[i] = ligand_code_list\n",
    "    # break\n",
    "    # print(i)"
   ]
  },
  {
   "cell_type": "code",
   "execution_count": null,
   "metadata": {},
   "outputs": [],
   "source": [
    "map_dict"
   ]
  },
  {
   "cell_type": "code",
   "execution_count": null,
   "metadata": {},
   "outputs": [],
   "source": [
    "import pickle \n",
    "\n",
    "save_path = \"\"\n",
    "with open(save_path, 'wb') as f:\n",
    "    pickle.dump(map_dict, f)"
   ]
  }
 ],
 "metadata": {
  "kernelspec": {
   "display_name": "atac_env",
   "language": "python",
   "name": "python3"
  },
  "language_info": {
   "codemirror_mode": {
    "name": "ipython",
    "version": 3
   },
   "file_extension": ".py",
   "mimetype": "text/x-python",
   "name": "python",
   "nbconvert_exporter": "python",
   "pygments_lexer": "ipython3",
   "version": "3.7.16"
  },
  "orig_nbformat": 4,
  "vscode": {
   "interpreter": {
    "hash": "99cbbe45247d17662ec65301558037395bd9d5f6b3eebe8ef0eaef6046da8823"
   }
  }
 },
 "nbformat": 4,
 "nbformat_minor": 2
}
